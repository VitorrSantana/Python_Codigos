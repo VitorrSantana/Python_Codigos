{
 "cells": [
  {
   "cell_type": "code",
   "execution_count": 2,
   "metadata": {},
   "outputs": [],
   "source": [
    "#Retorna o somatorio dos (elementos de uma lista-media)². Ex:∑(vali-media)²\n",
    "\n",
    "def somatorio1(lista,media):\n",
    "    soma = 0.0\n",
    "    for i in lista:\n",
    "        soma = soma + ((i-media)**2)    \n",
    "    return soma"
   ]
  },
  {
   "cell_type": "code",
   "execution_count": 3,
   "metadata": {},
   "outputs": [],
   "source": [
    "# Retorna o somatorio de uma lista\n",
    "\n",
    "def somatorio2(lista):\n",
    "    soma = 0.0\n",
    "    for val in lista:\n",
    "        soma = (soma + val)\n",
    "    return soma"
   ]
  },
  {
   "cell_type": "code",
   "execution_count": 4,
   "metadata": {},
   "outputs": [],
   "source": [
    "# Retorna o somatorio da multiplicação de elementos de duas listas.Ex: ∑(xi*y1)\n",
    "\n",
    "def somatorio3(lista1,lista2):\n",
    "    soma = 0.0\n",
    "    for(valx,valy) in zip(lista1,lista2):\n",
    "        soma = soma + (valx*valy)\n",
    "    return soma"
   ]
  },
  {
   "cell_type": "code",
   "execution_count": 5,
   "metadata": {},
   "outputs": [],
   "source": [
    "def criaListaPotencia(lista,potencia):\n",
    "    listaPotencia = []\n",
    "    for val in lista:\n",
    "        val = val**potencia\n",
    "        listaPotencia.append(val)\n",
    "    return listaPotencia"
   ]
  },
  {
   "cell_type": "code",
   "execution_count": 10,
   "metadata": {},
   "outputs": [
    {
     "name": "stdout",
     "output_type": "stream",
     "text": [
      "        2\n",
      "0.1758 x - 2.767 x + 11.55\n"
     ]
    },
    {
     "data": {
      "image/png": "[encoded data removed]",
      "text/plain": [
       "<Figure size 432x288 with 1 Axes>"
      ]
     },
     "metadata": {
      "needs_background": "light"
     },
     "output_type": "display_data"
    }
   ],
   "source": [
    "# Ajuste de Curva de Grau 2\n",
    "import numpy as np\n",
    "import matplotlib.pyplot as plt\n",
    "\n",
    "R = [1,1.1,1.25,1.5,2,2.2,3.5,5,6,6.5,7,8,8.75,9.5,10]\n",
    "I = [10,9,8.9,7,6,5.5,4,2,1.5,1.1,1.05,1,1,1.1,0.95]\n",
    "\n",
    "r_quad = []\n",
    "r_cubo = []\n",
    "r_quarta = []\n",
    "len(R)\n",
    "somatorio2(R)\n",
    "r_quad = criaListaPotencia(R,2)\n",
    "r_cubo = criaListaPotencia(R,3)\n",
    "r_quarta = criaListaPotencia(R,4)\n",
    "\n",
    "A = np.array([[len(R),somatorio2(R),somatorio2(r_quad)],\n",
    "              [somatorio2(R),somatorio2(r_quad),somatorio2(r_cubo)],\n",
    "              [somatorio2(r_quad),somatorio2(r_cubo),somatorio2(r_quarta)] \n",
    "              ])\n",
    "B = np.array([[somatorio2(I)],[somatorio3(R,I)],[somatorio3(I,r_quad)]])\n",
    "\n",
    "# Resolver a matriz e criar uma função f com os valores da resolução\n",
    "x = np.linalg.solve(A,B)\n",
    "f = np.poly1d([x[2][0],x[1][0],x[0][0]])\n",
    "print(f)\n",
    "\n",
    "# Pegar todos valores obtidos pela nova equação aplicando no ponto x\n",
    "valorFuncao = []\n",
    "for val in R:\n",
    "    valorFuncao.append(f(val))\n",
    "    \n",
    "# Para plotar o gráfico\n",
    "plt.plot(R,valorFuncao)\n",
    "plt.scatter(R,f(R))\n",
    "plt.show()"
   ]
  },
  {
   "cell_type": "code",
   "execution_count": null,
   "metadata": {},
   "outputs": [],
   "source": []
  }
 ],
 "metadata": {
  "kernelspec": {
   "display_name": "Python 3",
   "language": "python",
   "name": "python3"
  },
  "language_info": {
   "codemirror_mode": {
    "name": "ipython",
    "version": 3
   },
   "file_extension": ".py",
   "mimetype": "text/x-python",
   "name": "python",
   "nbconvert_exporter": "python",
   "pygments_lexer": "ipython3",
   "version": "3.8.5"
  }
 },
 "nbformat": 4,
 "nbformat_minor": 4
}
